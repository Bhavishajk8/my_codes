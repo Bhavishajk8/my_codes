{
 "cells": [
  {
   "cell_type": "markdown",
   "metadata": {},
   "source": [
    "##  Scatter Polt Visualization for Area"
   ]
  },
  {
   "cell_type": "code",
   "execution_count": 1,
   "metadata": {},
   "outputs": [],
   "source": [
    "%matplotlib inline\n",
    "import matplotlib.pyplot as plt\n",
    "%matplotlib inline\n",
    "import csv"
   ]
  },
  {
   "cell_type": "markdown",
   "metadata": {},
   "source": [
    "## Histogram on Student grade distribution data"
   ]
  },
  {
   "cell_type": "code",
   "execution_count": 6,
   "metadata": {},
   "outputs": [],
   "source": [
    "hist_data_filename = 'student_grades.csv'"
   ]
  },
  {
   "cell_type": "code",
   "execution_count": 7,
   "metadata": {},
   "outputs": [],
   "source": [
    "def read_q2_data(filename):\n",
    "    x_axis = []\n",
    "    y_axis = []\n",
    "    with open(filename,'r') as csvfile:\n",
    "        a = csv.reader(csvfile)\n",
    "        for rc in a:\n",
    "            if not rc[0].startswith('%'):\n",
    "                x_axis.append(float(rc[0])) # converting data from string to float\n",
    "                y_axis.append(float(rc[1]))\n",
    "    return x_axis,y_axis"
   ]
  },
  {
   "cell_type": "code",
   "execution_count": 8,
   "metadata": {},
   "outputs": [],
   "source": [
    "def hist_plot(x_axis,y_axis):\n",
    "#     plt.hist (y_axis, bins = 5,)\n",
    "    hist_data =[0,0,0,0,0]\n",
    "    for i in y_axis:\n",
    "        if i<60:\n",
    "            hist_data[0] +=1\n",
    "        elif i <70:\n",
    "            hist_data[1] +=1\n",
    "        elif i <80:\n",
    "            hist_data[2] +=1\n",
    "        elif i <90:\n",
    "            hist_data[3] +=1\n",
    "        else :\n",
    "            hist_data[4] +=1\n",
    "    plt.bar(list(range(0,5)),hist_data,color='blue',edgecolor ='black',tick_label = ['F','D','C','B','A'])\n",
    "    plt.title ('Grade Distribution')\n",
    "    plt.ylabel('Count')\n",
    "    plt.xlabel('Grade')\n",
    "    xlocs,xlabs = plt.xticks()\n",
    "    for i,v in enumerate(hist_data):\n",
    "        plt.text(xlocs[i],v+0.4,str(v))\n",
    "    plt.show()"
   ]
  },
  {
   "cell_type": "code",
   "execution_count": 9,
   "metadata": {},
   "outputs": [
    {
     "data": {
      "image/png": "[encoded data removed]",
      "text/plain": [
       "<Figure size 432x288 with 1 Axes>"
      ]
     },
     "metadata": {
      "needs_background": "light"
     },
     "output_type": "display_data"
    }
   ],
   "source": [
    "x_axis,y_axis = read_q2_data(hist_data_filename)\n",
    "hist_plot(x_axis,y_axis)"
   ]
  },
  {
   "cell_type": "markdown",
   "metadata": {},
   "source": [
    "## Analysis on Heuristic Methods."
   ]
  },
  {
   "cell_type": "code",
   "execution_count": 10,
   "metadata": {},
   "outputs": [],
   "source": [
    "barbox_data_filename = 'solution_data.csv'"
   ]
  },
  {
   "cell_type": "code",
   "execution_count": 11,
   "metadata": {},
   "outputs": [],
   "source": [
    "def read_hist_data(filename):\n",
    "    method = []\n",
    "    ovf = []\n",
    "    problem_id = []\n",
    "    with open(filename,'r') as csvfile:\n",
    "        a = csv.reader(csvfile)\n",
    "        for rc in a:\n",
    "            if not rc[0].startswith('%'):\n",
    "                method.append((rc[1])) # converting string to float\n",
    "                ovf.append(float(rc[2]))\n",
    "                problem_id.append(float(rc[0]))\n",
    "    return sorted(zip(problem_id, method, ovf)) "
   ]
  },
  {
   "cell_type": "code",
   "execution_count": 12,
   "metadata": {},
   "outputs": [],
   "source": [
    "# formula for gap\n",
    "def formula(p,q):\n",
    "    return (q-p)*100/q\n",
    "def data_processing(barbox_data_filename):\n",
    "    genetic =[]\n",
    "    simu = []\n",
    "    tabu = []\n",
    "    counter = 1\n",
    "    a,b,c,d = '','','',''\n",
    "    data = read_hist_data(barbox_data_filename)\n",
    "    for i,j,k in data: \n",
    "        if counter%4 == 1:\n",
    "            a = k\n",
    "        elif counter%4 == 2:\n",
    "            b = k\n",
    "        elif counter%4 == 3:\n",
    "            c = k\n",
    "        elif counter%4 == 0:\n",
    "            d = k\n",
    "            genetic.append(formula(a,b))\n",
    "            simu.append(formula(c,b))\n",
    "            tabu.append(formula(d,b))   \n",
    "        counter+=1\n",
    "    \n",
    "    return [genetic, simu, tabu]"
   ]
  },
  {
   "cell_type": "code",
   "execution_count": 13,
   "metadata": {},
   "outputs": [],
   "source": [
    "data = data_processing(barbox_data_filename)\n",
    "barplot_data = [(sum(data[0]))/len(data[0]),(sum(data[1]))/len(data[1]),(sum(data[2]))/len(data[2])]"
   ]
  },
  {
   "cell_type": "code",
   "execution_count": 14,
   "metadata": {},
   "outputs": [
    {
     "data": {
      "image/png": "[encoded data removed]",
      "text/plain": [
       "<Figure size 936x360 with 2 Axes>"
      ]
     },
     "metadata": {
      "needs_background": "light"
     },
     "output_type": "display_data"
    }
   ],
   "source": [
    "f,(ax1,ax2) = plt.subplots(1,2,sharey = 'all',figsize = (13,5))\n",
    "f.suptitle('Horizontally stacked subplots')\n",
    "ax1.set_title('Mean Gaps')\n",
    "ax2.set_title('Distribution of Gaps')\n",
    "ax1.set_xlabel('Heuristic Method')\n",
    "ax1.set_ylabel('Optimality Gap(%)')\n",
    "ax2.set_xlabel('Heuristic Method')\n",
    "ax1.bar(list(range(0,3)),barplot_data,color='orange',edgecolor ='black',tick_label = ['genetic algorithm','simulated annealing','tabu search'])\n",
    "ax2.boxplot(data)\n",
    "plt.xticks([1, 2, 3],['genetic algorithm','simulated annealing','tabu search'])\n",
    "ax2.tick_params(labelleft = True)"
   ]
  }
 ],
 "metadata": {
  "kernelspec": {
   "display_name": "Python 3",
   "language": "python",
   "name": "python3"
  },
  "language_info": {
   "codemirror_mode": {
    "name": "ipython",
    "version": 3
   },
   "file_extension": ".py",
   "mimetype": "text/x-python",
   "name": "python",
   "nbconvert_exporter": "python",
   "pygments_lexer": "ipython3",
   "version": "3.7.9"
  }
 },
 "nbformat": 4,
 "nbformat_minor": 4
}
